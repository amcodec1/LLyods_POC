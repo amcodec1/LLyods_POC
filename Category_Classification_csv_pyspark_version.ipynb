{
 "cells": [
  {
   "cell_type": "code",
   "execution_count": 5,
   "metadata": {},
   "outputs": [],
   "source": [
    "# Disable warnings, set Matplotlib inline plotting and load Pandas package\n",
    "import warnings\n",
    "warnings.filterwarnings('ignore')\n",
    "\n",
    "%matplotlib inline\n",
    "import pandas as pd\n",
    "\n"
   ]
  },
  {
   "cell_type": "code",
   "execution_count": 8,
   "metadata": {},
   "outputs": [
    {
     "name": "stdout",
     "output_type": "stream",
     "text": [
      "Collecting findspark\n",
      "  Using cached findspark-1.1.0-py2.py3-none-any.whl\n",
      "Installing collected packages: findspark\n",
      "Successfully installed findspark-1.1.0\n"
     ]
    },
    {
     "name": "stderr",
     "output_type": "stream",
     "text": [
      "You are using pip version 9.0.1, however version 9.0.3 is available.\n",
      "You should consider upgrading via the 'python -m pip install --upgrade pip' command.\n"
     ]
    }
   ],
   "source": [
    "#!python -m pip install findspark"
   ]
  },
  {
   "cell_type": "code",
   "execution_count": 9,
   "metadata": {},
   "outputs": [],
   "source": [
    "import findspark\n",
    "\n",
    "findspark.init()"
   ]
  },
  {
   "cell_type": "code",
   "execution_count": 10,
   "metadata": {},
   "outputs": [],
   "source": [
    "from pyspark import SparkContext, SparkConf\n",
    "from pyspark.sql import SparkSession\n",
    "\n",
    "\n",
    "spark = SparkSession\\\n",
    "        .builder\\\n",
    "        .appName(\"Transaction_Classification\")\\\n",
    "        .config('spark.sql.warehouse.dir','file:///home/sudipto21048867/Pyspark/spark-warehouse')\\\n",
    "        .getOrCreate()"
   ]
  },
  {
   "cell_type": "code",
   "execution_count": 12,
   "metadata": {},
   "outputs": [],
   "source": [
    "TransactionDf = spark.read.csv('F:/Llyods/Phase_1_codes/Phase_1_codes/TransactionSummaryLabelled.csv',                            \n",
    "                          header='true', \n",
    "                          inferSchema='true', encoding='ISO-8859-1')"
   ]
  },
  {
   "cell_type": "code",
   "execution_count": 13,
   "metadata": {},
   "outputs": [
    {
     "name": "stdout",
     "output_type": "stream",
     "text": [
      "+---------+----+--------------------+-------+--------+---------+--------+--------------------+\n",
      "|     Date|Type|         Description|Paid in|Paid out|  Balance|category|   Detailed Category|\n",
      "+---------+----+--------------------+-------+--------+---------+--------+--------------------+\n",
      "|25-Aug-17| POS|3818 23AUG17 , PA...|      -|   365.3|   £89.02|  Travel|            Agencies|\n",
      "|25-Aug-17| POS|3818 23AUG17 , PA...|      -|   365.3|   £89.02|  Travel|            Agencies|\n",
      "|22-Nov-17| POS|3818 21NOV17 , PA...|      -|   14.75|  £184.37|  Retail|            Clothing|\n",
      "|18-Apr-17| POS|1177 13APR17 CD ,...|      -|    24.5|  £159.76|  Retail|            Clothing|\n",
      "| 6-Feb-17| POS|3818 02FEB17 C , ...|      -|       2|  £737.19|  Retail|            Clothing|\n",
      "| 7-Dec-16| POS|3818 05DEC16 , PR...|      -|      62|  £525.51|  Retail|            Clothing|\n",
      "| 8-Feb-17| POS|3818 06FEB17 , PR...|      -|    32.3|    £9.41|  Retail|            Clothing|\n",
      "|10-Jul-17| POS|3818 07JUL17 , PR...|      -|   117.1|£1,183.35|  Retail|            Clothing|\n",
      "|10-Jul-17| POS|3818 07JUL17 C , ...|      -|       5|£1,300.45|  Retail|            Clothing|\n",
      "|18-Nov-16| POS|3818 17NOV16 , DE...|      -|      50|   £99.36|  Retail|            Clothing|\n",
      "|20-Oct-17| POS|3818 18OCT17 C , ...|      -|      22|  £258.40|  Retail|            Clothing|\n",
      "|24-Jul-17| POS|3818 22JUL17 , PR...|      -|      36|  £929.43|  Retail|            Clothing|\n",
      "|29-Aug-17| POS|3818 26AUG17 , PR...|      -|    82.5|  -£17.60|  Retail|            Clothing|\n",
      "| 3-Jan-18| POS|3818 02JAN18 , AM...|      -|    0.85|  £138.13|  Retail|Department / Onli...|\n",
      "| 3-Jan-18| POS|3818 02JAN18 , AM...|      -|    1.27|  £166.62|  Retail|Department / Onli...|\n",
      "| 3-Jan-18| POS|3818 02JAN18 , AM...|      -|   11.66|  £154.96|  Retail|Department / Onli...|\n",
      "| 3-Jan-18| POS|3818 02JAN18 , AM...|      -|    4.32|  £150.64|  Retail|Department / Onli...|\n",
      "| 3-Jan-18| POS|3818 02JAN18 , AM...|      -|   11.66|  £138.98|  Retail|Department / Onli...|\n",
      "| 4-Jul-17| POS|3818 03JUL17 , AM...|      -|    1.72|£1,355.10|  Retail|Department / Onli...|\n",
      "| 5-Dec-17| POS|3818 04DEC17 , AM...|      -|   25.99|  £400.84|  Retail|Department / Onli...|\n",
      "+---------+----+--------------------+-------+--------+---------+--------+--------------------+\n",
      "only showing top 20 rows\n",
      "\n"
     ]
    }
   ],
   "source": [
    "TransactionDf.show()"
   ]
  },
  {
   "cell_type": "code",
   "execution_count": 14,
   "metadata": {},
   "outputs": [
    {
     "name": "stdout",
     "output_type": "stream",
     "text": [
      "root\n",
      " |-- Date: string (nullable = true)\n",
      " |-- Type: string (nullable = true)\n",
      " |-- Description: string (nullable = true)\n",
      " |-- Paid in: string (nullable = true)\n",
      " |-- Paid out: string (nullable = true)\n",
      " |-- Balance: string (nullable = true)\n",
      " |-- category: string (nullable = true)\n",
      " |-- Detailed Category: string (nullable = true)\n",
      "\n"
     ]
    }
   ],
   "source": [
    "TransactionDf.printSchema()"
   ]
  },
  {
   "cell_type": "code",
   "execution_count": 15,
   "metadata": {},
   "outputs": [],
   "source": [
    "from pyspark.sql.types import FloatType\n",
    "from pyspark.sql.types import StringType\n",
    "from pyspark.sql.functions import UserDefinedFunction as udf\n",
    "from pyspark.sql.functions import expr"
   ]
  },
  {
   "cell_type": "code",
   "execution_count": 16,
   "metadata": {},
   "outputs": [],
   "source": [
    "paid_in_cleaned = udf(lambda y: y.replace(',', '') if y!='-' else '0' , StringType())\n",
    "paid_out_cleaned = udf(lambda y: y.replace(',', '') if y!='-' else '0', StringType())\n",
    "#paid_in_out_cleaned = udf(lambda k: paid_in_out_clean[k,l], FloatType(),FloatType())\n",
    "#paid_paid_cleaned = udf(lambda k: paid_fxinal_clean[k,l], FloatType())"
   ]
  },
  {
   "cell_type": "code",
   "execution_count": 17,
   "metadata": {},
   "outputs": [],
   "source": [
    "TransactionDf = TransactionDf.withColumn('Paid in',paid_in_cleaned(TransactionDf['Paid in']))\\\n",
    "                              .withColumn('Paid out',paid_out_cleaned(TransactionDf['Paid out']))"
   ]
  },
  {
   "cell_type": "code",
   "execution_count": 18,
   "metadata": {},
   "outputs": [],
   "source": [
    "#TransactionDf.show()\n",
    "def string_to_float(x):\n",
    "    return float(x)\n",
    "\n",
    "udfstring_to_float = udf(string_to_float, FloatType())\n",
    "\n",
    "\n",
    "TransactionDf = TransactionDf.withColumn('Paid in',udfstring_to_float(TransactionDf['Paid in']))\\\n",
    "                              .withColumn('Paid out',udfstring_to_float(TransactionDf['Paid out']))"
   ]
  },
  {
   "cell_type": "code",
   "execution_count": 19,
   "metadata": {},
   "outputs": [
    {
     "name": "stdout",
     "output_type": "stream",
     "text": [
      "+---------+----+--------------------+-------+--------+---------+--------+--------------------+\n",
      "|     Date|Type|         Description|Paid in|Paid out|  Balance|category|   Detailed Category|\n",
      "+---------+----+--------------------+-------+--------+---------+--------+--------------------+\n",
      "|25-Aug-17| POS|3818 23AUG17 , PA...|    0.0|   365.3|   £89.02|  Travel|            Agencies|\n",
      "|25-Aug-17| POS|3818 23AUG17 , PA...|    0.0|   365.3|   £89.02|  Travel|            Agencies|\n",
      "|22-Nov-17| POS|3818 21NOV17 , PA...|    0.0|   14.75|  £184.37|  Retail|            Clothing|\n",
      "|18-Apr-17| POS|1177 13APR17 CD ,...|    0.0|    24.5|  £159.76|  Retail|            Clothing|\n",
      "| 6-Feb-17| POS|3818 02FEB17 C , ...|    0.0|     2.0|  £737.19|  Retail|            Clothing|\n",
      "| 7-Dec-16| POS|3818 05DEC16 , PR...|    0.0|    62.0|  £525.51|  Retail|            Clothing|\n",
      "| 8-Feb-17| POS|3818 06FEB17 , PR...|    0.0|    32.3|    £9.41|  Retail|            Clothing|\n",
      "|10-Jul-17| POS|3818 07JUL17 , PR...|    0.0|   117.1|£1,183.35|  Retail|            Clothing|\n",
      "|10-Jul-17| POS|3818 07JUL17 C , ...|    0.0|     5.0|£1,300.45|  Retail|            Clothing|\n",
      "|18-Nov-16| POS|3818 17NOV16 , DE...|    0.0|    50.0|   £99.36|  Retail|            Clothing|\n",
      "|20-Oct-17| POS|3818 18OCT17 C , ...|    0.0|    22.0|  £258.40|  Retail|            Clothing|\n",
      "|24-Jul-17| POS|3818 22JUL17 , PR...|    0.0|    36.0|  £929.43|  Retail|            Clothing|\n",
      "|29-Aug-17| POS|3818 26AUG17 , PR...|    0.0|    82.5|  -£17.60|  Retail|            Clothing|\n",
      "| 3-Jan-18| POS|3818 02JAN18 , AM...|    0.0|    0.85|  £138.13|  Retail|Department / Onli...|\n",
      "| 3-Jan-18| POS|3818 02JAN18 , AM...|    0.0|    1.27|  £166.62|  Retail|Department / Onli...|\n",
      "| 3-Jan-18| POS|3818 02JAN18 , AM...|    0.0|   11.66|  £154.96|  Retail|Department / Onli...|\n",
      "| 3-Jan-18| POS|3818 02JAN18 , AM...|    0.0|    4.32|  £150.64|  Retail|Department / Onli...|\n",
      "| 3-Jan-18| POS|3818 02JAN18 , AM...|    0.0|   11.66|  £138.98|  Retail|Department / Onli...|\n",
      "| 4-Jul-17| POS|3818 03JUL17 , AM...|    0.0|    1.72|£1,355.10|  Retail|Department / Onli...|\n",
      "| 5-Dec-17| POS|3818 04DEC17 , AM...|    0.0|   25.99|  £400.84|  Retail|Department / Onli...|\n",
      "+---------+----+--------------------+-------+--------+---------+--------+--------------------+\n",
      "only showing top 20 rows\n",
      "\n"
     ]
    }
   ],
   "source": [
    "TransactionDf.show()"
   ]
  },
  {
   "cell_type": "code",
   "execution_count": 20,
   "metadata": {},
   "outputs": [],
   "source": [
    "from  pyspark.sql.functions import abs\n",
    "def final_paid(x,y):\n",
    "    return float(x-y)\n",
    "\n",
    "final_paid = udf(final_paid, FloatType())\n",
    "\n",
    "TransactionDf = TransactionDf.withColumn('final_paid',final_paid(TransactionDf['Paid in'],TransactionDf['Paid out']))\n",
    "\n",
    "TransactionDf = TransactionDf.withColumn('final_paid',abs(TransactionDf['final_paid']))\n",
    "                              "
   ]
  },
  {
   "cell_type": "code",
   "execution_count": 21,
   "metadata": {},
   "outputs": [
    {
     "name": "stdout",
     "output_type": "stream",
     "text": [
      "+---------+----+--------------------+-------+--------+---------+--------+--------------------+----------+\n",
      "|     Date|Type|         Description|Paid in|Paid out|  Balance|category|   Detailed Category|final_paid|\n",
      "+---------+----+--------------------+-------+--------+---------+--------+--------------------+----------+\n",
      "|25-Aug-17| POS|3818 23AUG17 , PA...|    0.0|   365.3|   £89.02|  Travel|            Agencies|     365.3|\n",
      "|25-Aug-17| POS|3818 23AUG17 , PA...|    0.0|   365.3|   £89.02|  Travel|            Agencies|     365.3|\n",
      "|22-Nov-17| POS|3818 21NOV17 , PA...|    0.0|   14.75|  £184.37|  Retail|            Clothing|     14.75|\n",
      "|18-Apr-17| POS|1177 13APR17 CD ,...|    0.0|    24.5|  £159.76|  Retail|            Clothing|      24.5|\n",
      "| 6-Feb-17| POS|3818 02FEB17 C , ...|    0.0|     2.0|  £737.19|  Retail|            Clothing|       2.0|\n",
      "| 7-Dec-16| POS|3818 05DEC16 , PR...|    0.0|    62.0|  £525.51|  Retail|            Clothing|      62.0|\n",
      "| 8-Feb-17| POS|3818 06FEB17 , PR...|    0.0|    32.3|    £9.41|  Retail|            Clothing|      32.3|\n",
      "|10-Jul-17| POS|3818 07JUL17 , PR...|    0.0|   117.1|£1,183.35|  Retail|            Clothing|     117.1|\n",
      "|10-Jul-17| POS|3818 07JUL17 C , ...|    0.0|     5.0|£1,300.45|  Retail|            Clothing|       5.0|\n",
      "|18-Nov-16| POS|3818 17NOV16 , DE...|    0.0|    50.0|   £99.36|  Retail|            Clothing|      50.0|\n",
      "|20-Oct-17| POS|3818 18OCT17 C , ...|    0.0|    22.0|  £258.40|  Retail|            Clothing|      22.0|\n",
      "|24-Jul-17| POS|3818 22JUL17 , PR...|    0.0|    36.0|  £929.43|  Retail|            Clothing|      36.0|\n",
      "|29-Aug-17| POS|3818 26AUG17 , PR...|    0.0|    82.5|  -£17.60|  Retail|            Clothing|      82.5|\n",
      "| 3-Jan-18| POS|3818 02JAN18 , AM...|    0.0|    0.85|  £138.13|  Retail|Department / Onli...|      0.85|\n",
      "| 3-Jan-18| POS|3818 02JAN18 , AM...|    0.0|    1.27|  £166.62|  Retail|Department / Onli...|      1.27|\n",
      "| 3-Jan-18| POS|3818 02JAN18 , AM...|    0.0|   11.66|  £154.96|  Retail|Department / Onli...|     11.66|\n",
      "| 3-Jan-18| POS|3818 02JAN18 , AM...|    0.0|    4.32|  £150.64|  Retail|Department / Onli...|      4.32|\n",
      "| 3-Jan-18| POS|3818 02JAN18 , AM...|    0.0|   11.66|  £138.98|  Retail|Department / Onli...|     11.66|\n",
      "| 4-Jul-17| POS|3818 03JUL17 , AM...|    0.0|    1.72|£1,355.10|  Retail|Department / Onli...|      1.72|\n",
      "| 5-Dec-17| POS|3818 04DEC17 , AM...|    0.0|   25.99|  £400.84|  Retail|Department / Onli...|     25.99|\n",
      "+---------+----+--------------------+-------+--------+---------+--------+--------------------+----------+\n",
      "only showing top 20 rows\n",
      "\n"
     ]
    }
   ],
   "source": [
    "TransactionDf.show()"
   ]
  },
  {
   "cell_type": "code",
   "execution_count": 22,
   "metadata": {},
   "outputs": [
    {
     "name": "stdout",
     "output_type": "stream",
     "text": [
      "root\n",
      " |-- Date: string (nullable = true)\n",
      " |-- Type: string (nullable = true)\n",
      " |-- Description: string (nullable = true)\n",
      " |-- Paid in: float (nullable = true)\n",
      " |-- Paid out: float (nullable = true)\n",
      " |-- Balance: string (nullable = true)\n",
      " |-- category: string (nullable = true)\n",
      " |-- Detailed Category: string (nullable = true)\n",
      " |-- final_paid: float (nullable = true)\n",
      "\n"
     ]
    }
   ],
   "source": [
    "TransactionDf.printSchema()"
   ]
  },
  {
   "cell_type": "code",
   "execution_count": 23,
   "metadata": {},
   "outputs": [],
   "source": [
    "import numpy as np\n",
    "\n",
    "\n",
    "\n",
    "def BinningData(TransactionDf,bins):\n",
    "    max_val =TransactionDf.select(TransactionDf.final_paid.cast('float')).rdd.max()[0] \n",
    "    min_val =TransactionDf.select(TransactionDf.final_paid.cast('float')).rdd.min()[0] -1  ##??\n",
    "    custom_bucket_array = np.linspace(min_val, max_val, 4)\n",
    "    cut_points = list(custom_bucket_array)\n",
    "    return cut_points\n",
    "\n",
    "\n",
    "#col('house name'), rawdata.price.cast('float')"
   ]
  },
  {
   "cell_type": "code",
   "execution_count": 24,
   "metadata": {},
   "outputs": [
    {
     "name": "stdout",
     "output_type": "stream",
     "text": [
      "+---------+----+--------------------+-------+--------+---------+--------+--------------------+----------+--------------+\n",
      "|     Date|Type|         Description|Paid in|Paid out|  Balance|category|   Detailed Category|final_paid|final_paid_bin|\n",
      "+---------+----+--------------------+-------+--------+---------+--------+--------------------+----------+--------------+\n",
      "|25-Aug-17| POS|3818 23AUG17 , PA...|    0.0|   365.3|   £89.02|  Travel|            Agencies|     365.3|           0.0|\n",
      "|25-Aug-17| POS|3818 23AUG17 , PA...|    0.0|   365.3|   £89.02|  Travel|            Agencies|     365.3|           0.0|\n",
      "|22-Nov-17| POS|3818 21NOV17 , PA...|    0.0|   14.75|  £184.37|  Retail|            Clothing|     14.75|           0.0|\n",
      "|18-Apr-17| POS|1177 13APR17 CD ,...|    0.0|    24.5|  £159.76|  Retail|            Clothing|      24.5|           0.0|\n",
      "| 6-Feb-17| POS|3818 02FEB17 C , ...|    0.0|     2.0|  £737.19|  Retail|            Clothing|       2.0|           0.0|\n",
      "| 7-Dec-16| POS|3818 05DEC16 , PR...|    0.0|    62.0|  £525.51|  Retail|            Clothing|      62.0|           0.0|\n",
      "| 8-Feb-17| POS|3818 06FEB17 , PR...|    0.0|    32.3|    £9.41|  Retail|            Clothing|      32.3|           0.0|\n",
      "|10-Jul-17| POS|3818 07JUL17 , PR...|    0.0|   117.1|£1,183.35|  Retail|            Clothing|     117.1|           0.0|\n",
      "|10-Jul-17| POS|3818 07JUL17 C , ...|    0.0|     5.0|£1,300.45|  Retail|            Clothing|       5.0|           0.0|\n",
      "|18-Nov-16| POS|3818 17NOV16 , DE...|    0.0|    50.0|   £99.36|  Retail|            Clothing|      50.0|           0.0|\n",
      "|20-Oct-17| POS|3818 18OCT17 C , ...|    0.0|    22.0|  £258.40|  Retail|            Clothing|      22.0|           0.0|\n",
      "|24-Jul-17| POS|3818 22JUL17 , PR...|    0.0|    36.0|  £929.43|  Retail|            Clothing|      36.0|           0.0|\n",
      "|29-Aug-17| POS|3818 26AUG17 , PR...|    0.0|    82.5|  -£17.60|  Retail|            Clothing|      82.5|           0.0|\n",
      "| 3-Jan-18| POS|3818 02JAN18 , AM...|    0.0|    0.85|  £138.13|  Retail|Department / Onli...|      0.85|           0.0|\n",
      "| 3-Jan-18| POS|3818 02JAN18 , AM...|    0.0|    1.27|  £166.62|  Retail|Department / Onli...|      1.27|           0.0|\n",
      "| 3-Jan-18| POS|3818 02JAN18 , AM...|    0.0|   11.66|  £154.96|  Retail|Department / Onli...|     11.66|           0.0|\n",
      "| 3-Jan-18| POS|3818 02JAN18 , AM...|    0.0|    4.32|  £150.64|  Retail|Department / Onli...|      4.32|           0.0|\n",
      "| 3-Jan-18| POS|3818 02JAN18 , AM...|    0.0|   11.66|  £138.98|  Retail|Department / Onli...|     11.66|           0.0|\n",
      "| 4-Jul-17| POS|3818 03JUL17 , AM...|    0.0|    1.72|£1,355.10|  Retail|Department / Onli...|      1.72|           0.0|\n",
      "| 5-Dec-17| POS|3818 04DEC17 , AM...|    0.0|   25.99|  £400.84|  Retail|Department / Onli...|     25.99|           0.0|\n",
      "+---------+----+--------------------+-------+--------+---------+--------+--------------------+----------+--------------+\n",
      "only showing top 20 rows\n",
      "\n"
     ]
    }
   ],
   "source": [
    "from pyspark.ml.feature import Bucketizer\n",
    "bucketizer = Bucketizer(splits=BinningData(TransactionDf,4),inputCol=\"final_paid\", outputCol=\"final_paid_bin\")\n",
    "TransactionDf = bucketizer.transform(TransactionDf)\n",
    "\n",
    "TransactionDf.show()"
   ]
  },
  {
   "cell_type": "code",
   "execution_count": 25,
   "metadata": {},
   "outputs": [
    {
     "data": {
      "text/html": [
       "<div>\n",
       "<style scoped>\n",
       "    .dataframe tbody tr th:only-of-type {\n",
       "        vertical-align: middle;\n",
       "    }\n",
       "\n",
       "    .dataframe tbody tr th {\n",
       "        vertical-align: top;\n",
       "    }\n",
       "\n",
       "    .dataframe thead th {\n",
       "        text-align: right;\n",
       "    }\n",
       "</style>\n",
       "<table border=\"1\" class=\"dataframe\">\n",
       "  <thead>\n",
       "    <tr style=\"text-align: right;\">\n",
       "      <th></th>\n",
       "      <th>0</th>\n",
       "      <th>1</th>\n",
       "      <th>2</th>\n",
       "      <th>3</th>\n",
       "      <th>4</th>\n",
       "    </tr>\n",
       "  </thead>\n",
       "  <tbody>\n",
       "    <tr>\n",
       "      <th>Date</th>\n",
       "      <td>25-Aug-17</td>\n",
       "      <td>25-Aug-17</td>\n",
       "      <td>22-Nov-17</td>\n",
       "      <td>18-Apr-17</td>\n",
       "      <td>6-Feb-17</td>\n",
       "    </tr>\n",
       "    <tr>\n",
       "      <th>Type</th>\n",
       "      <td>POS</td>\n",
       "      <td>POS</td>\n",
       "      <td>POS</td>\n",
       "      <td>POS</td>\n",
       "      <td>POS</td>\n",
       "    </tr>\n",
       "    <tr>\n",
       "      <th>Description</th>\n",
       "      <td>3818 23AUG17 , PAYPAL *AIRBNB , HMRNB4 , 35314...</td>\n",
       "      <td>3818 23AUG17 , PAYPAL *AIRBNB , HMRNB4 , 35314...</td>\n",
       "      <td>3818 21NOV17 , PAYPAL , *DECATHLONUK , 3531436...</td>\n",
       "      <td>1177 13APR17 CD , PRIMARK 674 , LONDON GB</td>\n",
       "      <td>3818 02FEB17 C , PRIMARK 671 , STRATFORD GB</td>\n",
       "    </tr>\n",
       "    <tr>\n",
       "      <th>Paid in</th>\n",
       "      <td>0</td>\n",
       "      <td>0</td>\n",
       "      <td>0</td>\n",
       "      <td>0</td>\n",
       "      <td>0</td>\n",
       "    </tr>\n",
       "    <tr>\n",
       "      <th>Paid out</th>\n",
       "      <td>365.3</td>\n",
       "      <td>365.3</td>\n",
       "      <td>14.75</td>\n",
       "      <td>24.5</td>\n",
       "      <td>2</td>\n",
       "    </tr>\n",
       "    <tr>\n",
       "      <th>Balance</th>\n",
       "      <td>£89.02</td>\n",
       "      <td>£89.02</td>\n",
       "      <td>£184.37</td>\n",
       "      <td>£159.76</td>\n",
       "      <td>£737.19</td>\n",
       "    </tr>\n",
       "    <tr>\n",
       "      <th>category</th>\n",
       "      <td>Travel</td>\n",
       "      <td>Travel</td>\n",
       "      <td>Retail</td>\n",
       "      <td>Retail</td>\n",
       "      <td>Retail</td>\n",
       "    </tr>\n",
       "    <tr>\n",
       "      <th>Detailed Category</th>\n",
       "      <td>Agencies</td>\n",
       "      <td>Agencies</td>\n",
       "      <td>Clothing</td>\n",
       "      <td>Clothing</td>\n",
       "      <td>Clothing</td>\n",
       "    </tr>\n",
       "    <tr>\n",
       "      <th>final_paid</th>\n",
       "      <td>365.3</td>\n",
       "      <td>365.3</td>\n",
       "      <td>14.75</td>\n",
       "      <td>24.5</td>\n",
       "      <td>2</td>\n",
       "    </tr>\n",
       "    <tr>\n",
       "      <th>final_paid_bin</th>\n",
       "      <td>0</td>\n",
       "      <td>0</td>\n",
       "      <td>0</td>\n",
       "      <td>0</td>\n",
       "      <td>0</td>\n",
       "    </tr>\n",
       "  </tbody>\n",
       "</table>\n",
       "</div>"
      ],
      "text/plain": [
       "                                                                   0  \\\n",
       "Date                                                       25-Aug-17   \n",
       "Type                                                             POS   \n",
       "Description        3818 23AUG17 , PAYPAL *AIRBNB , HMRNB4 , 35314...   \n",
       "Paid in                                                            0   \n",
       "Paid out                                                       365.3   \n",
       "Balance                                                       £89.02   \n",
       "category                                                      Travel   \n",
       "Detailed Category                                           Agencies   \n",
       "final_paid                                                     365.3   \n",
       "final_paid_bin                                                     0   \n",
       "\n",
       "                                                                   1  \\\n",
       "Date                                                       25-Aug-17   \n",
       "Type                                                             POS   \n",
       "Description        3818 23AUG17 , PAYPAL *AIRBNB , HMRNB4 , 35314...   \n",
       "Paid in                                                            0   \n",
       "Paid out                                                       365.3   \n",
       "Balance                                                       £89.02   \n",
       "category                                                      Travel   \n",
       "Detailed Category                                           Agencies   \n",
       "final_paid                                                     365.3   \n",
       "final_paid_bin                                                     0   \n",
       "\n",
       "                                                                   2  \\\n",
       "Date                                                       22-Nov-17   \n",
       "Type                                                             POS   \n",
       "Description        3818 21NOV17 , PAYPAL , *DECATHLONUK , 3531436...   \n",
       "Paid in                                                            0   \n",
       "Paid out                                                       14.75   \n",
       "Balance                                                      £184.37   \n",
       "category                                                      Retail   \n",
       "Detailed Category                                           Clothing   \n",
       "final_paid                                                     14.75   \n",
       "final_paid_bin                                                     0   \n",
       "\n",
       "                                                           3  \\\n",
       "Date                                               18-Apr-17   \n",
       "Type                                                     POS   \n",
       "Description        1177 13APR17 CD , PRIMARK 674 , LONDON GB   \n",
       "Paid in                                                    0   \n",
       "Paid out                                                24.5   \n",
       "Balance                                              £159.76   \n",
       "category                                              Retail   \n",
       "Detailed Category                                   Clothing   \n",
       "final_paid                                              24.5   \n",
       "final_paid_bin                                             0   \n",
       "\n",
       "                                                             4  \n",
       "Date                                                  6-Feb-17  \n",
       "Type                                                       POS  \n",
       "Description        3818 02FEB17 C , PRIMARK 671 , STRATFORD GB  \n",
       "Paid in                                                      0  \n",
       "Paid out                                                     2  \n",
       "Balance                                                £737.19  \n",
       "category                                                Retail  \n",
       "Detailed Category                                     Clothing  \n",
       "final_paid                                                   2  \n",
       "final_paid_bin                                               0  "
      ]
     },
     "execution_count": 25,
     "metadata": {},
     "output_type": "execute_result"
    }
   ],
   "source": [
    "pd.DataFrame(TransactionDf.take(5),columns=TransactionDf.columns).transpose()"
   ]
  },
  {
   "cell_type": "code",
   "execution_count": null,
   "metadata": {
    "collapsed": true
   },
   "outputs": [],
   "source": [
    "def BinningData(TransactionDf, bins):\n",
    "    min_val = min((TransactionDf['final_paid'])-1)\n",
    "    max_val = max(TransactionDf['final_paid'])\n",
    "    print(min_val, max_val)\n",
    "    custom_bucket_array = np.linspace(min_val, max_val, bins)\n",
    "    cut_points = list(custom_bucket_array)\n",
    "    group_name = [\"low\",\"medium\",\"high\"]\n",
    "    TransactionDf[\"final_paid_bin\"] = pd.cut(TransactionDf[\"final_paid\"], cut_points, labels=group_name)\n",
    "    \n",
    "    return TransactionDf"
   ]
  }
 ],
 "metadata": {
  "kernelspec": {
   "display_name": "Python 3",
   "language": "python",
   "name": "python3"
  },
  "language_info": {
   "codemirror_mode": {
    "name": "ipython",
    "version": 3
   },
   "file_extension": ".py",
   "mimetype": "text/x-python",
   "name": "python",
   "nbconvert_exporter": "python",
   "pygments_lexer": "ipython3",
   "version": "3.6.4"
  }
 },
 "nbformat": 4,
 "nbformat_minor": 2
}
