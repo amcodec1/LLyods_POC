{
 "cells": [
  {
   "cell_type": "code",
   "execution_count": 1,
   "metadata": {},
   "outputs": [],
   "source": [
    "import pandas as pd\n",
    "import json\n",
    "import re\n",
    "import numpy as np\n",
    "import sklearn\n",
    "from sklearn.model_selection import train_test_split\n",
    "from sklearn.feature_extraction.text import TfidfVectorizer\n",
    "from sklearn.naive_bayes import MultinomialNB\n",
    "from sklearn.ensemble import RandomForestClassifier\n",
    "from sklearn.ensemble import ExtraTreesClassifier\n",
    "from sklearn.model_selection import cross_val_score\n",
    "import pickle\n",
    "import ast\n",
    "\n",
    "from flask import jsonify,make_response\n",
    "from flask import jsonify\n",
    "import json \n",
    "\n",
    "from flask import Flask\n",
    "app = Flask(__name__)"
   ]
  },
  {
   "cell_type": "code",
   "execution_count": 2,
   "metadata": {},
   "outputs": [],
   "source": [
    "with open('vectorizer.pkl','rb') as f:\n",
    "    vectorizer = pickle.load(f)"
   ]
  },
  {
   "cell_type": "code",
   "execution_count": 3,
   "metadata": {},
   "outputs": [
    {
     "name": "stderr",
     "output_type": "stream",
     "text": [
      "C:\\ProgramData\\Anaconda3\\lib\\site-packages\\sklearn\\base.py:311: UserWarning: Trying to unpickle estimator DecisionTreeClassifier from version 0.18.1 when using version 0.19.1. This might lead to breaking code or invalid results. Use at your own risk.\n",
      "  UserWarning)\n",
      "C:\\ProgramData\\Anaconda3\\lib\\site-packages\\sklearn\\base.py:311: UserWarning: Trying to unpickle estimator RandomForestClassifier from version 0.18.1 when using version 0.19.1. This might lead to breaking code or invalid results. Use at your own risk.\n",
      "  UserWarning)\n"
     ]
    }
   ],
   "source": [
    "with open('RandomForest_classifier_Feb24.pkl','rb') as f:\n",
    "    RandomForest_model = pickle.load(f)"
   ]
  },
  {
   "cell_type": "code",
   "execution_count": 4,
   "metadata": {},
   "outputs": [],
   "source": [
    "def BinningData(TransactionDf, bins):\n",
    "    min_val = min((TransactionDf['AmountInGBP'])-1)\n",
    "    max_val = max(TransactionDf['AmountInGBP'])\n",
    "    #print(min_val, max_val)\n",
    "    custom_bucket_array = np.linspace(min_val, max_val, bins)\n",
    "    cut_points = list(custom_bucket_array)\n",
    "    group_name = [\"low\",\"medium\",\"high\"]\n",
    "    TransactionDf[\"AmountInGBP_bin\"] = pd.cut(TransactionDf[\"AmountInGBP\"], cut_points, labels=group_name)\n",
    "    return TransactionDf\n",
    "def getMerchfromDesc(tranType,tranDesc):\n",
    "    if tranType=='POS':        \n",
    "        parsed=tranDesc.split(', ')\n",
    "        lenPar=len(parsed)\n",
    "        if parsed[lenPar-1] == 'REFUND':\n",
    "            merch=parsed[1:-2]\n",
    "            return ('').join(merch)+'REFUND'\n",
    "        else:\n",
    "            merch=parsed[1:-1]\n",
    "            return ('').join(merch)\n",
    "    else:\n",
    "        return tranDesc\n",
    "def cleanMerchant(txt):\n",
    "    txt=re.sub(r'[^a-zA-Z\\b]', ' ', str(txt).upper())\n",
    "    return \" \".join(txt.split())\n",
    "\n",
    "\n",
    "def predictionModule(row):\n",
    "    if (row['Type']=='ATM'):\n",
    "        if row['CreditDebitIndicator']=='Debit':\n",
    "            return row['Type']+' Withdrawal'\n",
    "        else:\n",
    "            return row['Type']+' Deposit'\n",
    "    else:\n",
    "        vector=vectorizer.transform([row['Predictorcolumn']])\n",
    "        prediction=RandomForest_model.predict(vector)[0]\n",
    "        return prediction\n"
   ]
  },
  {
   "cell_type": "code",
   "execution_count": 5,
   "metadata": {},
   "outputs": [],
   "source": [
    "@app.route('/getPredictions')\n",
    "def get_prediction():\n",
    "    with open('TransformedSummary.json', encoding='ISO-8859-1') as f:\n",
    "        data = json.load(f)\n",
    "    TransactionDf = [item for items in data.values() for item in items]\n",
    "    TransactionDf=pd.DataFrame(TransactionDf)\n",
    "    TransactionDf['AmountInGBP']=TransactionDf['Amount'].map(lambda x :ast.literal_eval(x)['Amount']).astype(np.float)\n",
    "    TransactionDf['Type']=TransactionDf['BankTransactionCode'].map(lambda x :ast.literal_eval(x[:-1]+\"\\\"\\\"\"+'}')['Code'])\n",
    "    \n",
    "    BinningData(TransactionDf, 4)      \n",
    "    TransactionDf['Merchant']=TransactionDf.apply(lambda row:getMerchfromDesc(row['Type'],row['TransactionInformation']),axis=1 )\n",
    "    TransactionDf['cleanedMerchant']=TransactionDf['Merchant'].map(lambda x:cleanMerchant(x))\n",
    "\n",
    "    TransactionDf['Predictorcolumn']=TransactionDf['CreditDebitIndicator']+' '+TransactionDf['cleanedMerchant']+' '+TransactionDf['Type']+' '+TransactionDf['AmountInGBP_bin'].astype(str)\n",
    "    \n",
    "    TransactionDf['RF_Predictions']=TransactionDf.apply(lambda row:predictionModule(row),axis=1)\n",
    "    #surrogate = final_default_list[['New_ID_x','final_predict','Reason']]\n",
    "    surrogate = TransactionDf[['AccountId','TransactionInformation','Type','RF_Predictions']]\n",
    "    #final_surrogate = surrogate.drop_duplicates()\n",
    "    \n",
    "    dict_lst = []\n",
    "    for i in surrogate.iterrows():\n",
    "        #print(i[1]['predict_class'])\n",
    "        cust_id = i[1]['AccountId']\n",
    "        Transaction_Information = i[1]['TransactionInformation']\n",
    "        Transaction_Type = i[1]['Type']\n",
    "        predicted_class = i[1]['RF_Predictions']\n",
    "        #default_Reason = i[1]['Reason']\n",
    "\n",
    "        elm = {\"cust_id\": cust_id,\"Transaction_Information\":Transaction_Information,\"Transaction_Type\":Transaction_Type,\"predicted_class\":predicted_class}\n",
    "        dict_lst.append(elm)\n",
    "\n",
    "        res_data_dict = {\"Transaction_Details\":dict_lst}\n",
    "        #print(res_data_dict)\n",
    "    \n",
    "        response = app.response_class(response = json.dumps(res_data_dict),status = 200,mimetype='application/json')\n",
    "        return (response)"
   ]
  },
  {
   "cell_type": "code",
   "execution_count": 6,
   "metadata": {},
   "outputs": [
    {
     "name": "stderr",
     "output_type": "stream",
     "text": [
      " * Restarting with stat\n"
     ]
    },
    {
     "ename": "SystemExit",
     "evalue": "1",
     "output_type": "error",
     "traceback": [
      "An exception has occurred, use %tb to see the full traceback.\n",
      "\u001b[1;31mSystemExit\u001b[0m\u001b[1;31m:\u001b[0m 1\n"
     ]
    },
    {
     "name": "stderr",
     "output_type": "stream",
     "text": [
      "C:\\ProgramData\\Anaconda3\\lib\\site-packages\\IPython\\core\\interactiveshell.py:2918: UserWarning: To exit: use 'exit', 'quit', or Ctrl-D.\n",
      "  warn(\"To exit: use 'exit', 'quit', or Ctrl-D.\", stacklevel=1)\n"
     ]
    }
   ],
   "source": [
    "if __name__ == '__main__':\n",
    "    app.run(port=8080,host='0.0.0.0',debug=True)"
   ]
  },
  {
   "cell_type": "code",
   "execution_count": null,
   "metadata": {},
   "outputs": [],
   "source": []
  }
 ],
 "metadata": {
  "kernelspec": {
   "display_name": "Python 3",
   "language": "python",
   "name": "python3"
  },
  "language_info": {
   "codemirror_mode": {
    "name": "ipython",
    "version": 3
   },
   "file_extension": ".py",
   "mimetype": "text/x-python",
   "name": "python",
   "nbconvert_exporter": "python",
   "pygments_lexer": "ipython3",
   "version": "3.6.4"
  }
 },
 "nbformat": 4,
 "nbformat_minor": 2
}
