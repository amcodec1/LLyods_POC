{
 "cells": [
  {
   "cell_type": "code",
   "execution_count": 20,
   "metadata": {},
   "outputs": [],
   "source": [
    "# Disable warnings, set Matplotlib inline plotting and load Pandas package\n",
    "import warnings\n",
    "warnings.filterwarnings('ignore')\n",
    "\n",
    "%matplotlib inline\n",
    "import pandas as pd\n",
    "\n",
    "from pyspark import SparkContext, SparkConf\n",
    "from pyspark.sql import SparkSession"
   ]
  },
  {
   "cell_type": "code",
   "execution_count": 21,
   "metadata": {
    "collapsed": true
   },
   "outputs": [],
   "source": [
    "from pyspark import SparkContext, SparkConf\n",
    "from pyspark.sql import SparkSession\n",
    "\n",
    "\n",
    "spark = SparkSession\\\n",
    "        .builder\\\n",
    "        .appName(\"Product_Categorisation\")\\\n",
    "        .config('spark.sql.warehouse.dir','file:///home/sudipto21048867/Pyspark/spark-warehouse')\\\n",
    "        .getOrCreate()"
   ]
  },
  {
   "cell_type": "code",
   "execution_count": 22,
   "metadata": {},
   "outputs": [],
   "source": [
    "TransactionDf = spark.read.csv('/user/sudipto21048867/Llyods_data/BASE_Data/TransactionSummaryLabelled.csv',                            \n",
    "                          header='true', \n",
    "                          inferSchema='true', encoding='ISO-8859-1')"
   ]
  },
  {
   "cell_type": "code",
   "execution_count": 23,
   "metadata": {},
   "outputs": [
    {
     "name": "stdout",
     "output_type": "stream",
     "text": [
      "+---------+----+--------------------+-------+--------+---------+--------+--------------------+\n",
      "|     Date|Type|         Description|Paid in|Paid out|  Balance|category|   Detailed Category|\n",
      "+---------+----+--------------------+-------+--------+---------+--------+--------------------+\n",
      "|25-Aug-17| POS|3818 23AUG17 , PA...|      -|   365.3|   £89.02|  Travel|            Agencies|\n",
      "|25-Aug-17| POS|3818 23AUG17 , PA...|      -|   365.3|   £89.02|  Travel|            Agencies|\n",
      "|22-Nov-17| POS|3818 21NOV17 , PA...|      -|   14.75|  £184.37|  Retail|            Clothing|\n",
      "|18-Apr-17| POS|1177 13APR17 CD ,...|      -|    24.5|  £159.76|  Retail|            Clothing|\n",
      "| 6-Feb-17| POS|3818 02FEB17 C , ...|      -|       2|  £737.19|  Retail|            Clothing|\n",
      "| 7-Dec-16| POS|3818 05DEC16 , PR...|      -|      62|  £525.51|  Retail|            Clothing|\n",
      "| 8-Feb-17| POS|3818 06FEB17 , PR...|      -|    32.3|    £9.41|  Retail|            Clothing|\n",
      "|10-Jul-17| POS|3818 07JUL17 , PR...|      -|   117.1|£1,183.35|  Retail|            Clothing|\n",
      "|10-Jul-17| POS|3818 07JUL17 C , ...|      -|       5|£1,300.45|  Retail|            Clothing|\n",
      "|18-Nov-16| POS|3818 17NOV16 , DE...|      -|      50|   £99.36|  Retail|            Clothing|\n",
      "|20-Oct-17| POS|3818 18OCT17 C , ...|      -|      22|  £258.40|  Retail|            Clothing|\n",
      "|24-Jul-17| POS|3818 22JUL17 , PR...|      -|      36|  £929.43|  Retail|            Clothing|\n",
      "|29-Aug-17| POS|3818 26AUG17 , PR...|      -|    82.5|  -£17.60|  Retail|            Clothing|\n",
      "| 3-Jan-18| POS|3818 02JAN18 , AM...|      -|    0.85|  £138.13|  Retail|Department / Onli...|\n",
      "| 3-Jan-18| POS|3818 02JAN18 , AM...|      -|    1.27|  £166.62|  Retail|Department / Onli...|\n",
      "| 3-Jan-18| POS|3818 02JAN18 , AM...|      -|   11.66|  £154.96|  Retail|Department / Onli...|\n",
      "| 3-Jan-18| POS|3818 02JAN18 , AM...|      -|    4.32|  £150.64|  Retail|Department / Onli...|\n",
      "| 3-Jan-18| POS|3818 02JAN18 , AM...|      -|   11.66|  £138.98|  Retail|Department / Onli...|\n",
      "| 4-Jul-17| POS|3818 03JUL17 , AM...|      -|    1.72|£1,355.10|  Retail|Department / Onli...|\n",
      "| 5-Dec-17| POS|3818 04DEC17 , AM...|      -|   25.99|  £400.84|  Retail|Department / Onli...|\n",
      "+---------+----+--------------------+-------+--------+---------+--------+--------------------+\n",
      "only showing top 20 rows\n",
      "\n"
     ]
    }
   ],
   "source": [
    "TransactionDf.show()"
   ]
  },
  {
   "cell_type": "code",
   "execution_count": 24,
   "metadata": {},
   "outputs": [
    {
     "name": "stdout",
     "output_type": "stream",
     "text": [
      "root\n",
      " |-- Date: string (nullable = true)\n",
      " |-- Type: string (nullable = true)\n",
      " |-- Description: string (nullable = true)\n",
      " |-- Paid in: string (nullable = true)\n",
      " |-- Paid out: string (nullable = true)\n",
      " |-- Balance: string (nullable = true)\n",
      " |-- category: string (nullable = true)\n",
      " |-- Detailed Category: string (nullable = true)\n",
      "\n"
     ]
    }
   ],
   "source": [
    "TransactionDf.printSchema()"
   ]
  },
  {
   "cell_type": "code",
   "execution_count": 25,
   "metadata": {
    "collapsed": true
   },
   "outputs": [],
   "source": [
    "from pyspark.sql.types import FloatType\n",
    "from pyspark.sql.types import StringType\n",
    "from pyspark.sql.functions import UserDefinedFunction as udf"
   ]
  },
  {
   "cell_type": "code",
   "execution_count": 26,
   "metadata": {},
   "outputs": [],
   "source": [
    "\n",
    "\n",
    "paid_in_cleaned = udf(lambda y: y.replace(',', '') if y!='-' else '0' , StringType())\n",
    "paid_out_cleaned = udf(lambda y: y.replace(',', '') if y!='-' else '0', StringType())\n",
    "#paid_in_out_cleaned = udf(lambda k: paid_in_out_clean[k,l], FloatType(),FloatType())\n",
    "#paid_paid_cleaned = udf(lambda k: paid_final_clean[k,l], FloatType())"
   ]
  },
  {
   "cell_type": "code",
   "execution_count": 27,
   "metadata": {},
   "outputs": [],
   "source": [
    "TransactionDf = TransactionDf.withColumn('Paid in',paid_in_cleaned(TransactionDf['Paid in'])).\\\n",
    "                              withColumn('Paid out',paid_out_cleaned(TransactionDf['Paid out']))"
   ]
  },
  {
   "cell_type": "code",
   "execution_count": 28,
   "metadata": {},
   "outputs": [
    {
     "name": "stdout",
     "output_type": "stream",
     "text": [
      "+---------+----+--------------------+-------+--------+---------+--------+--------------------+\n",
      "|     Date|Type|         Description|Paid in|Paid out|  Balance|category|   Detailed Category|\n",
      "+---------+----+--------------------+-------+--------+---------+--------+--------------------+\n",
      "|25-Aug-17| POS|3818 23AUG17 , PA...|      0|   365.3|   £89.02|  Travel|            Agencies|\n",
      "|25-Aug-17| POS|3818 23AUG17 , PA...|      0|   365.3|   £89.02|  Travel|            Agencies|\n",
      "|22-Nov-17| POS|3818 21NOV17 , PA...|      0|   14.75|  £184.37|  Retail|            Clothing|\n",
      "|18-Apr-17| POS|1177 13APR17 CD ,...|      0|    24.5|  £159.76|  Retail|            Clothing|\n",
      "| 6-Feb-17| POS|3818 02FEB17 C , ...|      0|       2|  £737.19|  Retail|            Clothing|\n",
      "| 7-Dec-16| POS|3818 05DEC16 , PR...|      0|      62|  £525.51|  Retail|            Clothing|\n",
      "| 8-Feb-17| POS|3818 06FEB17 , PR...|      0|    32.3|    £9.41|  Retail|            Clothing|\n",
      "|10-Jul-17| POS|3818 07JUL17 , PR...|      0|   117.1|£1,183.35|  Retail|            Clothing|\n",
      "|10-Jul-17| POS|3818 07JUL17 C , ...|      0|       5|£1,300.45|  Retail|            Clothing|\n",
      "|18-Nov-16| POS|3818 17NOV16 , DE...|      0|      50|   £99.36|  Retail|            Clothing|\n",
      "|20-Oct-17| POS|3818 18OCT17 C , ...|      0|      22|  £258.40|  Retail|            Clothing|\n",
      "|24-Jul-17| POS|3818 22JUL17 , PR...|      0|      36|  £929.43|  Retail|            Clothing|\n",
      "|29-Aug-17| POS|3818 26AUG17 , PR...|      0|    82.5|  -£17.60|  Retail|            Clothing|\n",
      "| 3-Jan-18| POS|3818 02JAN18 , AM...|      0|    0.85|  £138.13|  Retail|Department / Onli...|\n",
      "| 3-Jan-18| POS|3818 02JAN18 , AM...|      0|    1.27|  £166.62|  Retail|Department / Onli...|\n",
      "| 3-Jan-18| POS|3818 02JAN18 , AM...|      0|   11.66|  £154.96|  Retail|Department / Onli...|\n",
      "| 3-Jan-18| POS|3818 02JAN18 , AM...|      0|    4.32|  £150.64|  Retail|Department / Onli...|\n",
      "| 3-Jan-18| POS|3818 02JAN18 , AM...|      0|   11.66|  £138.98|  Retail|Department / Onli...|\n",
      "| 4-Jul-17| POS|3818 03JUL17 , AM...|      0|    1.72|£1,355.10|  Retail|Department / Onli...|\n",
      "| 5-Dec-17| POS|3818 04DEC17 , AM...|      0|   25.99|  £400.84|  Retail|Department / Onli...|\n",
      "+---------+----+--------------------+-------+--------+---------+--------+--------------------+\n",
      "only showing top 20 rows\n",
      "\n"
     ]
    }
   ],
   "source": [
    "TransactionDf.show()"
   ]
  },
  {
   "cell_type": "code",
   "execution_count": null,
   "metadata": {},
   "outputs": [],
   "source": [
    "TransactionDf['Paid in']=[str(x).replace(',', '') if x!='-' else '0' for x in TransactionDf['Paid in']]\n",
    "TransactionDf['Paid out']=[str(x).replace(',', '') if x!='-' else '0' for x in TransactionDf['Paid out']]\n",
    "TransactionDf[['Paid in','Paid out']]=TransactionDf[['Paid in','Paid out']].astype(float)\n",
    "TransactionDf['final_paid']=(TransactionDf['Paid in']-TransactionDf['Paid out']).abs()"
   ]
  },
  {
   "cell_type": "code",
   "execution_count": null,
   "metadata": {
    "collapsed": true
   },
   "outputs": [],
   "source": []
  }
 ],
 "metadata": {
  "anaconda-cloud": {},
  "kernelspec": {
   "display_name": "Python [default]",
   "language": "python",
   "name": "python2"
  },
  "language_info": {
   "codemirror_mode": {
    "name": "ipython",
    "version": 2
   },
   "file_extension": ".py",
   "mimetype": "text/x-python",
   "name": "python",
   "nbconvert_exporter": "python",
   "pygments_lexer": "ipython2",
   "version": "2.7.14"
  }
 },
 "nbformat": 4,
 "nbformat_minor": 2
}
